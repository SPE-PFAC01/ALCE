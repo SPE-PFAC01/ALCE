{
  "cells": [
    {
      "cell_type": "markdown",
      "metadata": {
        "id": "ozBjpVawjjIx"
      },
      "source": [
        "# Gas Lift Optimization Notebook\n",
        "\n",
        "This notebook was originally created for a SPE Online Education Course by two PE undergraduate students from The University of Tulsa, Blazej Ksiazek (ksiazeklblazej@gmail.com) and Antonio Reinoso (amc7606@utulsa.edu). For this course, it has been significantly enhanced by Vinicius Kramer Scariot."
      ]
    },
    {
      "cell_type": "code",
      "execution_count": null,
      "metadata": {
        "colab": {
          "base_uri": "https://localhost:8080/"
        },
        "id": "Q3PP579ga8NJ",
        "outputId": "f21f14ab-6742-445e-8a4a-c70c1cb00df1"
      },
      "outputs": [],
      "source": [
        "from google.colab import drive\n",
        "drive.mount('/content/drive')"
      ]
    },
    {
      "cell_type": "markdown",
      "metadata": {
        "id": "-hkeEr_4YHqj"
      },
      "source": [
        "# Import all necessary libraries"
      ]
    },
    {
      "cell_type": "code",
      "execution_count": null,
      "metadata": {
        "id": "vYOMX8MIYHqr"
      },
      "outputs": [],
      "source": [
        "import tensorflow as tf\n",
        "from tensorflow.keras import callbacks\n",
        "import numpy as np\n",
        "import matplotlib.pyplot as plt\n",
        "\n",
        "from sklearn.preprocessing import MaxAbsScaler\n",
        "\n",
        "from tensorflow.keras import Sequential\n",
        "from tensorflow.keras.layers import Dense\n",
        "from tensorflow.keras.utils import plot_model\n",
        "\n",
        "import os.path\n",
        "from os import path\n",
        "import keras\n",
        "import pandas as pd"
      ]
    },
    {
      "cell_type": "markdown",
      "metadata": {
        "id": "FJcngP8AYHqv"
      },
      "source": [
        "# Number of inputs, epochs to train on and outputs"
      ]
    },
    {
      "cell_type": "code",
      "execution_count": null,
      "metadata": {
        "id": "ApfQ1RXLYHqw"
      },
      "outputs": [],
      "source": [
        "num_inputs = 2  \n",
        "nb_epochs = 200  \n",
        "num_output = 1  "
      ]
    },
    {
      "cell_type": "markdown",
      "metadata": {
        "id": "eUbZA_2fYHqx"
      },
      "source": [
        "# Building the Artificial Neural Network"
      ]
    },
    {
      "cell_type": "code",
      "execution_count": null,
      "metadata": {
        "id": "zqizG7ZKYHqy"
      },
      "outputs": [],
      "source": [
        "model = Sequential()\n",
        "model.add(Dense(4, batch_input_shape=(None, num_inputs), activation=\"tanh\"))\n",
        "model.add(Dense(4, activation=\"tanh\"))\n",
        "model.add(Dense(num_output, activation=\"tanh\"))\n",
        "model.compile(loss=\"MSE\", optimizer=\"adam\", metrics=[\"mae\"])"
      ]
    },
    {
      "cell_type": "code",
      "execution_count": null,
      "metadata": {
        "colab": {
          "base_uri": "https://localhost:8080/"
        },
        "id": "QHM3jbs-PFsz",
        "outputId": "3b7a495f-1ac7-47e4-f1e7-e31cf5324089"
      },
      "outputs": [],
      "source": [
        "model.summary()"
      ]
    },
    {
      "cell_type": "markdown",
      "metadata": {
        "id": "kdaBT5awYHqz"
      },
      "source": [
        "# Load and preprocess training data"
      ]
    },
    {
      "cell_type": "code",
      "execution_count": null,
      "metadata": {
        "id": "a16JUNZYXJZc"
      },
      "outputs": [],
      "source": [
        "data = pd.read_csv('GL_Optimization_data.txt', delimiter='\\t', header=None, names=['pressure', 'Q_injected', 'Q_produced'])"
      ]
    },
    {
      "cell_type": "code",
      "execution_count": null,
      "metadata": {
        "colab": {
          "base_uri": "https://localhost:8080/",
          "height": 419
        },
        "id": "t6oli-jwQBoV",
        "outputId": "c44ab795-0258-4090-da06-d8cd5eb84df0"
      },
      "outputs": [],
      "source": [
        "data"
      ]
    },
    {
      "cell_type": "code",
      "execution_count": null,
      "metadata": {
        "id": "DpkC5zZAZX6c"
      },
      "outputs": [],
      "source": [
        "data_train = data.sample(frac=0.7)\n",
        "data_test = data.loc[data.index.difference(data_train.index)]"
      ]
    },
    {
      "cell_type": "code",
      "execution_count": null,
      "metadata": {
        "id": "j9rj3h_tYHq0"
      },
      "outputs": [],
      "source": [
        "raw_train_inputs = data_train[['pressure', 'Q_injected']].values\n",
        "raw_test_inputs = data_test[['pressure', 'Q_injected']].values"
      ]
    },
    {
      "cell_type": "markdown",
      "metadata": {
        "id": "us9kQedrYHq1"
      },
      "source": [
        "# Scale each feature by its maximum absolute value"
      ]
    },
    {
      "cell_type": "code",
      "execution_count": null,
      "metadata": {
        "id": "UfGkt5C7YHq1"
      },
      "outputs": [],
      "source": [
        "inputScaler = MaxAbsScaler().fit(raw_train_inputs)\n",
        "inputs = inputScaler.transform(raw_train_inputs)\n",
        "inputs_test = inputScaler.transform(raw_test_inputs)"
      ]
    },
    {
      "cell_type": "markdown",
      "metadata": {
        "id": "i3RWkPN9YHq2"
      },
      "source": [
        "# raw_train_outputs"
      ]
    },
    {
      "cell_type": "code",
      "execution_count": null,
      "metadata": {
        "id": "mjGf9RugYHq3"
      },
      "outputs": [],
      "source": [
        "raw_train_outputs = data_train[['Q_produced']].values\n",
        "raw_test_outputs = data_test[['Q_produced']].values\n",
        "outputScaler = MaxAbsScaler().fit(raw_train_outputs)\n",
        "\n",
        "outputs = outputScaler.transform(raw_train_outputs)\n",
        "outputs_test = outputScaler.transform(raw_test_outputs)\n",
        "\n",
        "test_data = tf.data.Dataset.from_tensors((inputs_test, outputs_test))"
      ]
    },
    {
      "cell_type": "markdown",
      "metadata": {
        "id": "n9ZtvPZLYHq3"
      },
      "source": [
        "# Check if model has been trained before. If the model has not been trained before, train it and save it to the disk in a file called \"saved_model\""
      ]
    },
    {
      "cell_type": "code",
      "execution_count": null,
      "metadata": {
        "colab": {
          "base_uri": "https://localhost:8080/",
          "height": 1000
        },
        "id": "yxOEHHBbYHq4",
        "outputId": "f215042a-b725-4914-96ff-7c23427f1814"
      },
      "outputs": [],
      "source": [
        "history = model.fit(x=inputs, y=outputs, epochs=nb_epochs, batch_size=num_output, shuffle=True, validation_data=test_data)\n",
        "model.save(\"saved_model.hdf5\")\n",
        "\n",
        "# makes a graph of the training performance\n",
        "fig = plt.figure()\n",
        "plt.title('Training performance')\n",
        "plt.loglog(history.epoch, history.history['loss'], label='train loss')\n",
        "plt.loglog(history.epoch, history.history['val_loss'], label='test loss')\n",
        "plt.legend()\n",
        "fig.savefig(\"NNTraining.png\")\n"
      ]
    },
    {
      "cell_type": "markdown",
      "metadata": {
        "id": "D_ZcJV_FYHq6"
      },
      "source": [
        "# Obtain normalized model prediction and denormalize"
      ]
    },
    {
      "cell_type": "code",
      "execution_count": null,
      "metadata": {
        "id": "MFznNlVNYHq6"
      },
      "outputs": [],
      "source": [
        "p = np.linspace(200, 2600, 300)\n",
        "Q_inj = np.linspace(0, 2, 300)\n",
        "p, Q_inj = np.meshgrid(p, Q_inj)\n",
        "inputs = np.array([p.ravel(), Q_inj.ravel()]).T\n",
        "inputs_prediction = inputScaler.transform(inputs)\n",
        "normalized_prediction = model.predict(inputs_prediction)\n",
        "prediction = outputScaler.inverse_transform(normalized_prediction)"
      ]
    },
    {
      "cell_type": "markdown",
      "metadata": {
        "id": "JKxQKMoZYHq7"
      },
      "source": [
        "# Creates plot of actual Qinj and predicted Qinj of our model"
      ]
    },
    {
      "cell_type": "code",
      "execution_count": null,
      "metadata": {
        "colab": {
          "base_uri": "https://localhost:8080/",
          "height": 405
        },
        "id": "fpmAMg066m3T",
        "outputId": "1b921805-3cf9-41dc-df32-e6b58b489d0f"
      },
      "outputs": [],
      "source": [
        "fig, (ax, ax2) = plt.subplots(1, 2, figsize=(12, 6), sharex=True, sharey=True)\n",
        "shape = (56, 6)\n",
        "pressure_levels = [0, 250, 500, 750, 1000, 1250, 1500, 1750, 2000, 2250, 2500, 2750]\n",
        "X, Y = data['pressure'].values.reshape(shape), data['Q_injected'].values.reshape(shape)\n",
        "Z =  data['Q_produced'].values.reshape(shape)\n",
        "contour = ax.contourf(Y, Z, X, cmap='Blues', vmin=0, vmax=3000, levels=pressure_levels)\n",
        "cbar = plt.colorbar(contour, ax=ax)\n",
        "cbar.set_label('Pressure')\n",
        "ax.set_xlabel('Injected flow rate')\n",
        "ax.set_ylabel('Produced flow rate')\n",
        "\n",
        "contour = ax2.contourf(Q_inj, prediction.reshape(Q_inj.shape), p, cmap='Blues', levels=pressure_levels)\n",
        "cbar = plt.colorbar(contour, ax=ax2)\n",
        "cbar.set_label('Pressure')\n",
        "ax2.set_xlabel('Injected flow rate')\n",
        "ax2.set_ylabel('Predicted produced flow rate by NN')\n",
        "ax.set_ylim([0, 1.75])"
      ]
    },
    {
      "cell_type": "code",
      "execution_count": null,
      "metadata": {
        "colab": {
          "base_uri": "https://localhost:8080/",
          "height": 297
        },
        "id": "Lap6Dyh7EEIH",
        "outputId": "62227a04-6155-407b-9c38-54ec03dbbabf"
      },
      "outputs": [],
      "source": [
        "fig, ax = plt.subplots()\n",
        "data_plot = data.loc[[p in [1200, 1500, 1800, 2000] for p in data['pressure']]]\n",
        "data_plot.groupby('pressure').plot('Q_injected', 'Q_produced', ax=ax)\n",
        "ax.legend(['1200 psi', '1500 psi', '1800 psi', '2000 psi'])"
      ]
    },
    {
      "cell_type": "markdown",
      "metadata": {
        "id": "2PmeW3XQYHq9"
      },
      "source": [
        "# Calculates error of our program"
      ]
    },
    {
      "cell_type": "code",
      "execution_count": null,
      "metadata": {
        "colab": {
          "base_uri": "https://localhost:8080/"
        },
        "id": "qKK5GigWYHq-",
        "outputId": "5d5f2030-d64d-4a09-f87f-72bcb94735b7"
      },
      "outputs": [],
      "source": [
        "error_normalized = model.evaluate(inputs_test, outputs_test, verbose=False)\n",
        "error = outputScaler.inverse_transform(np.array(error_normalized).reshape(-1, 1))\n",
        "error"
      ]
    }
  ],
  "metadata": {
    "colab": {
      "collapsed_sections": [],
      "name": "6 Gas Lift Optimization.ipynb",
      "provenance": []
    },
    "kernelspec": {
      "display_name": "Python 3",
      "language": "python",
      "name": "python3"
    },
    "language_info": {
      "codemirror_mode": {
        "name": "ipython",
        "version": 3
      },
      "file_extension": ".py",
      "mimetype": "text/x-python",
      "name": "python",
      "nbconvert_exporter": "python",
      "pygments_lexer": "ipython3",
      "version": "3.7.6"
    }
  },
  "nbformat": 4,
  "nbformat_minor": 0
}
