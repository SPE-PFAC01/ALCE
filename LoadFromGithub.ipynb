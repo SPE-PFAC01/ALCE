{
  "nbformat": 4,
  "nbformat_minor": 0,
  "metadata": {
    "colab": {
      "name": "LoadFromGithub.ipynb",
      "provenance": [],
      "authorship_tag": "ABX9TyMdSqneDd1nVAA6c9SC26YE",
      "include_colab_link": true
    },
    "kernelspec": {
      "name": "python3",
      "display_name": "Python 3"
    },
    "language_info": {
      "name": "python"
    }
  },
  "cells": [
    {
      "cell_type": "markdown",
      "metadata": {
        "id": "view-in-github",
        "colab_type": "text"
      },
      "source": [
        "<a href=\"https://colab.research.google.com/github/SPE-PFAC01/ALCE-22/blob/main/LoadFromGithub.ipynb\" target=\"_parent\"><img src=\"https://colab.research.google.com/assets/colab-badge.svg\" alt=\"Open In Colab\"/></a>"
      ]
    },
    {
      "cell_type": "code",
      "execution_count": 2,
      "metadata": {
        "colab": {
          "base_uri": "https://localhost:8080/"
        },
        "id": "gly6n-yfUq6g",
        "outputId": "dd299a79-7d10-4e3a-dde2-f93d9bbdabf9"
      },
      "outputs": [
        {
          "output_type": "stream",
          "name": "stdout",
          "text": [
            "Drive already mounted at /content/drive; to attempt to forcibly remount, call drive.mount(\"/content/drive\", force_remount=True).\n",
            "mkdir: cannot create directory ‘/content/drive/My Drive/ALCE’: File exists\n",
            "Cloning into 'ALCE-22'...\n",
            "remote: Enumerating objects: 7, done.\u001b[K\n",
            "remote: Counting objects: 100% (7/7), done.\u001b[K\n",
            "remote: Compressing objects: 100% (7/7), done.\u001b[K\n",
            "remote: Total 7 (delta 1), reused 0 (delta 0), pack-reused 0\u001b[K\n",
            "Unpacking objects: 100% (7/7), done.\n",
            "mv: cannot stat './temp/*': No such file or directory\n",
            "sending incremental file list\n",
            "rsync: link_stat \"/content/drive/My Drive/ALCE/*\" failed: No such file or directory (2)\n",
            "rsync error: some files/attrs were not transferred (see previous errors) (code 23) at main.c(1196) [sender=3.1.2]\n"
          ]
        }
      ],
      "source": [
        "from google.colab import drive\n",
        "from os.path import join\n",
        "\n",
        "ROOT = '/content/drive'       # default for the G-drive\n",
        "PROJ = 'My Drive/ALCE'        # path to your project on the G-drive\n",
        "\n",
        "GIT_USERNAME = \"SPE-PFAC01\"  # \n",
        "GIT_REPOSITORY = \"ALCE-22\"\n",
        "\n",
        "drive.mount(ROOT)            # mount the drive at /content/drive\n",
        "\n",
        "PROJECT_PATH = join(ROOT, PROJ)   \n",
        "!mkdir \"{PROJECT_PATH}\"     # Create folder in case we havent created it already\n",
        "\n",
        "#GIT_PATH = \"https://github.com/{GIT_USERNAME}/{GIT_REPOSITORY}.git\"\n",
        "GIT_PATH = \"https://github.com/SPE-PFAC01/ALCE-22.git\"\n",
        "!mkdir ./temp\n",
        "!git clone \"{GIT_PATH}\"\n",
        "!mv ./temp/* \"{PROJECT_PATH}\"\n",
        "!rm -rf ./temp\n",
        "!rsync -aP --exclude=data/ \"{PROJECT_PATH}\"/* ./\n"
      ]
    }
  ]
}