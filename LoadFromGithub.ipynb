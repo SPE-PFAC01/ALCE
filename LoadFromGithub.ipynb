{
  "nbformat": 4,
  "nbformat_minor": 0,
  "metadata": {
    "colab": {
      "name": "LoadFromGithub.ipynb",
      "provenance": []
    },
    "kernelspec": {
      "name": "python3",
      "display_name": "Python 3"
    },
    "language_info": {
      "name": "python"
    }
  },
  "cells": [
    {
      "cell_type": "code",
      "execution_count": null,
      "metadata": {
        "id": "gly6n-yfUq6g"
      },
      "outputs": [],
      "source": [
        "from google.colab import drive\n",
        "from os.path import join\n",
        "\n",
        "ROOT = '/content/drive'       # default for the G-drive\n",
        "PROJ = 'MyDrive/ALCE-22'        # path to your project on the G-drive\n",
        "\n",
        "GIT_USERNAME = \"SPE-PFAC01\"  # \n",
        "GIT_REPOSITORY = \"ALCE-22\"\n",
        "\n",
        "drive.mount(ROOT)            # mount the drive at /content/drive\n",
        "\n",
        "PROJECT_PATH = join(ROOT, PROJ)   \n",
        "!mkdir \"{PROJECT_PATH}\"     # Create folder in case we havent created it already\n",
        "\n",
        "GIT_PATH = \"https://github.com/SPE-PFAC01/ALCE-22.git\"\n",
        "!mkdir ./temp\n",
        "!git clone \"{GIT_PATH}\"\n",
        "!mv ./\"{GIT_REPOSITORY}\"/* \"{PROJECT_PATH}\"\n",
        "!rm -rf ./temp\n",
        "!rsync -aP --exclude=data/ \"{PROJECT_PATH}\"/* ./\n"
      ]
    }
  ]
}
