{
  "cells": [
    {
      "cell_type": "markdown",
      "metadata": {
        "id": "view-in-github",
        "colab_type": "text"
      },
      "source": [
        "<a href=\"https://colab.research.google.com/github/SPE-PFAC01/ALCE/blob/main/RodPumpCardDetection.ipynb\" target=\"_parent\"><img src=\"https://colab.research.google.com/assets/colab-badge.svg\" alt=\"Open In Colab\"/></a>"
      ]
    },
    {
      "cell_type": "markdown",
      "id": "05438f6c",
      "metadata": {
        "id": "05438f6c"
      },
      "source": [
        "### Rod Pump Dynacard Classification Problem"
      ]
    },
    {
      "cell_type": "code",
      "source": [
        "from google.colab import drive\n",
        "drive.mount('/content/drive')"
      ],
      "metadata": {
        "id": "dQVu-ePG0cYE"
      },
      "id": "dQVu-ePG0cYE",
      "execution_count": null,
      "outputs": []
    },
    {
      "cell_type": "code",
      "execution_count": null,
      "id": "55b76e31",
      "metadata": {
        "id": "55b76e31"
      },
      "outputs": [],
      "source": [
        "# -*- coding: utf-8 -*-\n",
        "\"\"\"\n",
        "Created on Fri Jun 10 09:32:44 2022\n",
        "\n",
        "@author: RajanChokshi\n",
        "\"\"\"\n",
        "\n",
        "import pandas as pd\n",
        "import numpy as np\n",
        "import math"
      ]
    },
    {
      "cell_type": "markdown",
      "id": "d354e1a6",
      "metadata": {
        "id": "d354e1a6"
      },
      "source": [
        "#### Common Purpose Routines"
      ]
    },
    {
      "cell_type": "code",
      "execution_count": null,
      "id": "f04575d1",
      "metadata": {
        "id": "f04575d1"
      },
      "outputs": [],
      "source": [
        "# Scale input array x between [0, 1]\n",
        "def normalize(x):\n",
        "    return (x - x.min())/(x.max()-x.min())\n",
        "\n",
        "def standardize(x):\n",
        "    return (x - x.mean())/x.std()\n",
        "\n",
        "# Massage data -- Normalize or Standardize or do nothing??\n",
        "def preprocessData(x, mode='NONE'):\n",
        "    if (mode == 'NORMALIZE'):\n",
        "        return normalize(x)\n",
        "    elif (mode == 'STANDARDIZE'):\n",
        "        return standardize(x)\n",
        "    else:\n",
        "        return x\n",
        "\n",
        "# The following three lines allow multiple and non-truncated outputs\n",
        "from IPython.core.interactiveshell import InteractiveShell\n",
        "InteractiveShell.ast_node_interactivity = 'all'\n",
        "pd.set_option('display.max_columns', None)"
      ]
    },
    {
      "cell_type": "code",
      "execution_count": null,
      "id": "bea3eb48",
      "metadata": {
        "id": "bea3eb48"
      },
      "outputs": [],
      "source": [
        "# Import Data\n",
        "dyna_file =  '/content/drive/MyDrive/ALCE/DynaCardsv2.csv'\n",
        "dyna = pd.read_csv(dyna_file, header=None, names=['label', 'cardstream'])"
      ]
    },
    {
      "cell_type": "code",
      "execution_count": null,
      "id": "d59ce4cb",
      "metadata": {
        "id": "d59ce4cb"
      },
      "outputs": [],
      "source": [
        "# Change label type to category & add a label_code column\n",
        "dyna.label = pd.Categorical(dyna.label)\n",
        "dyna['labelCode'] = dyna.label.cat.codes\n",
        "dyna.head()\n",
        "dyna.tail()"
      ]
    },
    {
      "cell_type": "code",
      "execution_count": null,
      "id": "6aec809e",
      "metadata": {
        "id": "6aec809e"
      },
      "outputs": [],
      "source": [
        "# Modify cardstream data\n",
        "# Remove curly braces\n",
        "# Convert strings to numpy array and\n",
        "# split into two components\n",
        "dyna['card'] = dyna['cardstream'].replace('[{}]','', regex=True) \\\n",
        "    .apply(lambda x: np.fromstring(x, dtype=float, sep=',')) \\\n",
        "        .apply(lambda x: np.split(x, 2))"
      ]
    },
    {
      "cell_type": "code",
      "execution_count": null,
      "id": "c3284841",
      "metadata": {
        "id": "c3284841"
      },
      "outputs": [],
      "source": [
        "# Split each card into load and displacement arrays and normalize values\n",
        "dyna['load'] = dyna.card.apply(lambda x: x[0])\n",
        "dyna['disp'] = dyna.card.apply(lambda x: x[1])"
      ]
    },
    {
      "cell_type": "code",
      "execution_count": null,
      "id": "9d5e1062",
      "metadata": {
        "id": "9d5e1062"
      },
      "outputs": [],
      "source": [
        "# Preprocess data\n",
        "#MODE = 'STANDARDIZE'\n",
        "MODE = 'NORMALIZE'\n",
        "for cName in ['load', 'disp']:\n",
        "    dyna[cName] = dyna[cName].apply(lambda x: preprocessData(x, mode=MODE))"
      ]
    },
    {
      "cell_type": "code",
      "execution_count": null,
      "id": "bc246311",
      "metadata": {
        "id": "bc246311"
      },
      "outputs": [],
      "source": [
        "# Featureset 1 - Centroids or means\n",
        "dyna['mean_load'] = dyna.load.apply(np.mean)\n",
        "dyna['mean_disp'] = dyna.disp.apply(np.mean)"
      ]
    },
    {
      "cell_type": "code",
      "execution_count": null,
      "id": "4cebef4e",
      "metadata": {
        "id": "4cebef4e"
      },
      "outputs": [],
      "source": [
        "# Featureset 3 - Fourier Descriptors - First five only\n",
        "from scipy.fft import rfft\n",
        "LOW = 0\n",
        "HIGH = 5\n",
        "\n",
        "# Helper function to create column names\n",
        "def colNames(prefix, LOW,HIGH):\n",
        "    colList = []\n",
        "    for i in range(LOW, HIGH):\n",
        "        colList.append(prefix+'_'+str(i))\n",
        "    return colList"
      ]
    },
    {
      "cell_type": "code",
      "execution_count": null,
      "id": "b9c21465",
      "metadata": {
        "id": "b9c21465"
      },
      "outputs": [],
      "source": [
        "# Dataframe of Load FFT-Coeffs\n",
        "load_fftcoeffs = pd.DataFrame(\n",
        "    data=dyna.load.apply(lambda x: np.real(rfft(x))[LOW:HIGH]).to_list(),\n",
        "    columns=colNames('lfftCoeff', LOW, HIGH)    )"
      ]
    },
    {
      "cell_type": "code",
      "execution_count": null,
      "id": "22216f92",
      "metadata": {
        "id": "22216f92"
      },
      "outputs": [],
      "source": [
        "# Dataframe of Displacement FFT-Coeffs\n",
        "disp_fftcoeffs = pd.DataFrame(\n",
        "    data=dyna.disp.apply(lambda x: np.real(rfft(x))[LOW:HIGH]).to_list(),\n",
        "    columns=colNames('dfftCoeff', LOW, HIGH)   )"
      ]
    },
    {
      "cell_type": "code",
      "execution_count": null,
      "id": "2134f0ea",
      "metadata": {
        "id": "2134f0ea"
      },
      "outputs": [],
      "source": [
        "dyna = pd.concat([dyna, load_fftcoeffs, disp_fftcoeffs], axis='columns')\n",
        "dyna.dropna(axis=0, inplace=True)"
      ]
    },
    {
      "cell_type": "code",
      "execution_count": null,
      "id": "e93d85ab",
      "metadata": {
        "id": "e93d85ab"
      },
      "outputs": [],
      "source": [
        "# Preprocess calculated features\n",
        "#MODE = 'STANDARDIZE'\n",
        "for cName in dyna.columns[8:]:\n",
        "    dyna[cName] = preprocessData(dyna[cName], mode=MODE)"
      ]
    },
    {
      "cell_type": "code",
      "execution_count": null,
      "id": "a88ca3d4",
      "metadata": {
        "id": "a88ca3d4"
      },
      "outputs": [],
      "source": [
        "#plot a set of random example cards from each category\n",
        "import matplotlib.pyplot as plt\n",
        "\n",
        "cardlabels=dyna.label.unique()\n",
        "fig, axs = plt.subplots(nrows=math.ceil(cardlabels.size/2), ncols=2,\n",
        "                        sharex=True, sharey=True)\n",
        "# set labels\n",
        "plt.setp(axs[-1, :], xlabel='Norm DISP, -')\n",
        "plt.setp(axs[:, 0], ylabel='Norm LOAD, -')\n",
        "#plt.setp(axs, xlim=(0.,1.0), ylim=(0.,1.0) )\n",
        "\n",
        "m = n = 0\n",
        "nMax = 2\n",
        "for l in cardlabels:\n",
        "    idx = dyna[dyna.label==l].sample().index[0]\n",
        "    axs[m, n].plot(dyna.disp[idx], dyna.load[idx])\n",
        "    axs[m, n].scatter(dyna.mean_disp[idx], dyna.mean_load[idx], c='red')\n",
        "    axs[m, n].set_title('ID:'+str(idx)+': '+dyna.label[idx], fontsize = 10)\n",
        "    n = n + 1\n",
        "    if (n == nMax):\n",
        "        n = 0\n",
        "        m = m + 1\n",
        "\n",
        "plt.subplots_adjust(bottom=0.3, top=1.5)\n",
        "plt.show()\n",
        "#----------------------------------------------------------------------\n",
        "# Plot Centroids\n",
        "from matplotlib.colors import from_levels_and_colors\n",
        "\n",
        "u, inv = np.unique(dyna.label, return_inverse=True)\n",
        "cmap, norm = from_levels_and_colors(np.arange(0, len(u)+1)-0.5,\n",
        "                                    plt.cm.viridis(np.linspace(0,1,len(u))))\n",
        "p1 = plt.scatter(dyna.mean_load, dyna.mean_disp,\n",
        "                 c=inv, cmap=cmap, norm=norm, alpha=0.4)\n",
        "plt.legend(p1.legend_elements()[0],u)#, loc='lower right')\n",
        "plt.show()"
      ]
    },
    {
      "cell_type": "code",
      "execution_count": null,
      "id": "488e861c",
      "metadata": {
        "id": "488e861c"
      },
      "outputs": [],
      "source": [
        "#----------------------------------------------------------------------\n",
        "# Plot first coefficients\n",
        "p1 = plt.scatter(dyna.lfftCoeff_0, dyna.dfftCoeff_0,\n",
        "                 c=inv, cmap=cmap, norm=norm, alpha=0.4)\n",
        "plt.legend(p1.legend_elements()[0],u)#, loc='lower right')\n",
        "plt.show()\n",
        "#----------------------------------------------------------------------"
      ]
    },
    {
      "cell_type": "code",
      "execution_count": null,
      "id": "7cb1375b",
      "metadata": {
        "id": "7cb1375b"
      },
      "outputs": [],
      "source": [
        "# Corrlation map\n",
        "f = plt.figure(figsize=(19, 15))\n",
        "plt.matshow(dyna.corr(), fignum=f.number)\n",
        "plt.xticks(range(dyna.select_dtypes(['number']).shape[1]), dyna.select_dtypes(['number']).columns, fontsize=14, rotation=45)\n",
        "plt.yticks(range(dyna.select_dtypes(['number']).shape[1]), dyna.select_dtypes(['number']).columns, fontsize=14)\n",
        "cb = plt.colorbar()\n",
        "cb.ax.tick_params(labelsize=14)\n",
        "plt.title('Correlation Matrix', fontsize=16);"
      ]
    },
    {
      "cell_type": "code",
      "execution_count": null,
      "id": "a7ca5497",
      "metadata": {
        "id": "a7ca5497"
      },
      "outputs": [],
      "source": [
        "# Form dataset X- features & y is target\n",
        "X = dyna[dyna.columns[8:]].to_numpy()\n",
        "y = dyna.labelCode\n",
        "\n",
        "# Sub-divide datatest into training and testing: 70 - 30% split\n",
        "from sklearn.model_selection import train_test_split\n",
        "X_train, X_test, y_train, y_test = train_test_split(\n",
        "    X, y,\n",
        "    test_size=0.3, random_state=1002)"
      ]
    },
    {
      "cell_type": "code",
      "execution_count": null,
      "id": "4aa01aa0",
      "metadata": {
        "id": "4aa01aa0"
      },
      "outputs": [],
      "source": [
        "from sklearn.model_selection import cross_val_score, cross_val_predict, cross_validate\n",
        "\n",
        "NUMFOLDS = 5\n",
        "# Logistic Regression Classifier\n",
        "from sklearn.linear_model import LogisticRegression\n",
        "log_reg = LogisticRegression(random_state=1029, max_iter=10000)\n",
        "res_LR = cross_validate(log_reg, X_train, y_train, cv = NUMFOLDS, scoring=['balanced_accuracy','f1_macro'])"
      ]
    },
    {
      "cell_type": "code",
      "execution_count": null,
      "id": "27d07efc",
      "metadata": {
        "id": "27d07efc"
      },
      "outputs": [],
      "source": [
        "# Gaussian Bayes\n",
        "from sklearn.naive_bayes import GaussianNB\n",
        "gnb = GaussianNB()\n",
        "y_pred = gnb.fit(X_train, y_train).predict(X_test)\n",
        "print(\"Number of mislabeled points out of a total %d points : %d\"\n",
        "      % (X_test.shape[0], (y_test != y_pred).sum()))"
      ]
    },
    {
      "cell_type": "code",
      "execution_count": null,
      "id": "449195b2",
      "metadata": {
        "id": "449195b2"
      },
      "outputs": [],
      "source": [
        "# Support Vector Machine\n",
        "from sklearn.svm import LinearSVC\n",
        "svm = LinearSVC(dual=False)\n",
        "#clf_SVM = cross_val_score(svm, X_train, y_train, cv = 10, scoring='accuracy')\n",
        "res_SVM = cross_validate(svm, X_train, y_train, cv = NUMFOLDS, scoring=['balanced_accuracy','f1_macro'])\n",
        "\n",
        "# Decision Tree\n",
        "from sklearn.tree import DecisionTreeClassifier\n",
        "dt = DecisionTreeClassifier(random_state=1029)\n",
        "#clf_DT = cross_val_score(decision_tree, X_train, y_train, cv = 10, scoring='accuracy')\n",
        "res_DT = cross_validate(dt, X_train, y_train, cv = NUMFOLDS, scoring=['balanced_accuracy','f1_macro'])\n",
        "\n",
        "# Random Forest Classifier\n",
        "from sklearn.ensemble import RandomForestClassifier\n",
        "rf = RandomForestClassifier(random_state=1029)\n",
        "#clf_RF = cross_val_score(random_forest, X_train, y_train, cv = 10, scoring='accuracy')\n",
        "res_RF = cross_validate(rf, X_train, y_train, cv = NUMFOLDS, scoring=['balanced_accuracy','f1_macro'])\n",
        "\n",
        "\n",
        "# Extra Trees Classifier\n",
        "from sklearn.ensemble import ExtraTreesClassifier\n",
        "et = ExtraTreesClassifier(random_state=1029)\n",
        "#clf_ET = cross_val_score(extra_tree, X_train, y_train, cv = 10, scoring='accuracy')\n",
        "res_ET = cross_validate(et, X_train, y_train, cv = NUMFOLDS, scoring=['balanced_accuracy','f1_macro'])\n",
        "\n",
        "# GradientBoosting Classifier\n",
        "from sklearn.ensemble import GradientBoostingClassifier\n",
        "gb = GradientBoostingClassifier(random_state=1029)\n",
        "#clf_GB = cross_val_score(gb, X_train, y_train, cv = 10, scoring='accuracy')\n",
        "res_gb = cross_validate(gb, X_train, y_train, cv = NUMFOLDS, scoring=['balanced_accuracy','f1_macro'])"
      ]
    },
    {
      "cell_type": "code",
      "execution_count": null,
      "id": "0944a245",
      "metadata": {
        "id": "0944a245"
      },
      "outputs": [],
      "source": [
        "# XGBoost Classifier\n",
        "import xgboost as xgb\n",
        "#y.astype(\"category\")\n",
        "xgb_model = xgb.XGBClassifier(use_label_encoder=False)\n",
        "res_xgb = cross_validate(xgb_model, X_train, y_train, cv = NUMFOLDS, scoring=['balanced_accuracy','f1_macro'])"
      ]
    },
    {
      "cell_type": "code",
      "execution_count": null,
      "id": "9efa0f02",
      "metadata": {
        "id": "9efa0f02"
      },
      "outputs": [],
      "source": [
        "# Artificial Neural network using Keras\n",
        "from keras.models import Sequential\n",
        "from keras.layers import Dense\n",
        "from keras.layers import BatchNormalization\n",
        "from tensorflow.keras.optimizers import SGD\n",
        "from tensorflow.keras.utils import to_categorical\n",
        "\n",
        "SPARSE = True\n",
        "if (SPARSE):\n",
        "    yy = y\n",
        "    loss = 'sparse_categorical_crossentropy'\n",
        "else:\n",
        "    yy = to_categorical(y)\n",
        "    loss = 'categorical_crossentropy'\n",
        "\n",
        "X_train, X_test, y_train, y_test = train_test_split(\n",
        "    X, yy,\n",
        "    test_size=0.3, random_state=1002)\n",
        "\n",
        "nn = Sequential()\n",
        "nn.add(Dense(units=100, activation='relu', kernel_initializer='he_uniform'))\n",
        "nn.add(Dense(units=50, activation='relu', kernel_initializer='he_uniform'))\n",
        "nn.add(Dense(units=4, activation='softmax'))\n",
        "opt = SGD(learning_rate=0.01, momentum=0.9)\n",
        "nn.compile(loss=loss,\n",
        "           optimizer=opt, metrics=['accuracy'])\n",
        "# fit model\n",
        "history = nn.fit(X_train, y_train, validation_data=(X_test, y_test),\n",
        "                 epochs=100, verbose=0)\n",
        "# evaluate model\n",
        "_, train_acc = nn.evaluate(X_train, y_train, verbose=0)\n",
        "_, test_acc = nn.evaluate(X_test, y_test, verbose=0)\n",
        "print('Train: %.3f, Test: %.3f' %(train_acc, test_acc))\n",
        "# plot loss during training\n",
        "plt.subplot(211)\n",
        "plt.title('Categorical Cross-Entropy Loss', pad=20)\n",
        "plt.plot(history.history['loss'], label='train')\n",
        "plt.plot(history.history['val_loss'], label='test')\n",
        "plt.legend()\n",
        "plt.show()"
      ]
    },
    {
      "cell_type": "code",
      "execution_count": null,
      "id": "8dabd11b",
      "metadata": {
        "id": "8dabd11b"
      },
      "outputs": [],
      "source": [
        "# Calculate the confusion matrix\n",
        "#\n",
        "from sklearn.metrics import confusion_matrix\n",
        "from sklearn.metrics import ConfusionMatrixDisplay\n",
        "from sklearn.metrics import classification_report\n",
        "\n",
        "def plot_confusion_matrix(model, model_name):\n",
        "    model.fit(X_train, y_train)\n",
        "    if (model_name=='Neural Network'): #and (not SPARSE)):\n",
        "        y_pred = np.argmax(model.predict(X_test), axis=1)\n",
        "    else:\n",
        "        y_pred = model.predict(X_test)\n",
        "\n",
        "    conf_matrix = confusion_matrix(y_true=y_test, y_pred=y_pred)\n",
        "\n",
        "    #fig, ax = plt.subplots(figsize=(7.5, 7.5))\n",
        "    disp = ConfusionMatrixDisplay(confusion_matrix=conf_matrix,\n",
        "                                  display_labels=cardlabels)\n",
        "    disp = disp.plot(xticks_rotation=45)\n",
        "\n",
        "    plt.xlabel('Predicted Label', fontsize=16)\n",
        "    plt.ylabel('True Label', fontsize=16)\n",
        "    plt.title('Confusion Matrix - ' + model_name, fontsize=16)\n",
        "    plt.show()\n",
        "    #plt.close(fig)\n",
        "\n",
        "    # print classification report\n",
        "    print('Classification Report for '+ model_name +'\\n'+\n",
        "          classification_report(y_true=y_test, y_pred=y_pred,\n",
        "                                target_names=cardlabels))\n",
        "\n",
        "\n",
        "plot_confusion_matrix(log_reg, 'Logistic Regression')\n",
        "plot_confusion_matrix(gnb, 'Gaussian Bayes')"
      ]
    },
    {
      "cell_type": "code",
      "execution_count": null,
      "id": "d6f09d8f",
      "metadata": {
        "id": "d6f09d8f"
      },
      "outputs": [],
      "source": [
        "plot_confusion_matrix(svm, 'Support Vector Machine')\n",
        "plot_confusion_matrix(dt, 'Decision Tree')"
      ]
    },
    {
      "cell_type": "code",
      "execution_count": null,
      "id": "ef2c0edd",
      "metadata": {
        "id": "ef2c0edd"
      },
      "outputs": [],
      "source": [
        "plot_confusion_matrix(rf, 'Random Forest Classifier')\n",
        "plot_confusion_matrix(et, 'Extra Trees')"
      ]
    },
    {
      "cell_type": "code",
      "execution_count": null,
      "id": "e33645cb",
      "metadata": {
        "id": "e33645cb"
      },
      "outputs": [],
      "source": [
        "plot_confusion_matrix(gb, 'Gradient Boosting Classifier')\n",
        "plot_confusion_matrix(xgb_model, 'XG Boost')"
      ]
    },
    {
      "cell_type": "code",
      "execution_count": null,
      "id": "9dc5cd8e",
      "metadata": {
        "id": "9dc5cd8e"
      },
      "outputs": [],
      "source": [
        "plot_confusion_matrix(nn, 'Neural Network')"
      ]
    },
    {
      "cell_type": "code",
      "execution_count": null,
      "id": "7a16c0b3",
      "metadata": {
        "id": "7a16c0b3"
      },
      "outputs": [],
      "source": []
    }
  ],
  "metadata": {
    "kernelspec": {
      "display_name": "Python 3 (ipykernel)",
      "language": "python",
      "name": "python3"
    },
    "language_info": {
      "codemirror_mode": {
        "name": "ipython",
        "version": 3
      },
      "file_extension": ".py",
      "mimetype": "text/x-python",
      "name": "python",
      "nbconvert_exporter": "python",
      "pygments_lexer": "ipython3",
      "version": "3.9.12"
    },
    "colab": {
      "provenance": [],
      "include_colab_link": true
    }
  },
  "nbformat": 4,
  "nbformat_minor": 5
}