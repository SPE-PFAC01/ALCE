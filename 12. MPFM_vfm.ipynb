{
  "cells": [
    {
      "cell_type": "markdown",
      "metadata": {
        "colab_type": "text",
        "id": "view-in-github"
      },
      "source": [
        "<a href=\"https://colab.research.google.com/github/SPE-PFAC01/ALCE/blob/main/MPFM_vfm.ipynb\" target=\"_parent\"><img src=\"https://colab.research.google.com/assets/colab-badge.svg\" alt=\"Open In Colab\"/></a>"
      ]
    },
    {
      "cell_type": "markdown",
      "id": "793852e9",
      "metadata": {
        "id": "793852e9"
      },
      "source": [
        "## 4.0. Multiphase Flow Meter Virtualization\n",
        "* Objective is to determine if a virtual multiphase flow meter can be constructed using machine learning rather than physical modeling.\n",
        "### Regression problem"
      ]
    },
    {
      "cell_type": "code",
      "execution_count": null,
      "id": "6deaa5ab",
      "metadata": {},
      "outputs": [],
      "source": [
        "from google.colab import drive\n",
        "drive.mount('/content/drive')"
      ]
    },
    {
      "cell_type": "markdown",
      "id": "d94bdc74",
      "metadata": {
        "id": "d94bdc74"
      },
      "source": [
        "### Load Python Libraries"
      ]
    },
    {
      "cell_type": "code",
      "execution_count": 2,
      "id": "785d91ac",
      "metadata": {
        "id": "785d91ac"
      },
      "outputs": [],
      "source": [
        "# Data storage, exploration\n",
        "import pandas as pd\n",
        "import numpy as np\n",
        "\n",
        "# Plotting\n",
        "import matplotlib.pyplot as plt\n",
        "import seaborn as sns\n",
        "\n",
        "# Data imputing\n",
        "from sklearn.experimental import enable_iterative_imputer  # noqa\n",
        "from sklearn.impute import SimpleImputer, KNNImputer, IterativeImputer\n",
        "\n",
        "# ML Model libraries\n",
        "\n",
        "# The following three lines allow multiple and non-truncated outputs\n",
        "from IPython.core.interactiveshell import InteractiveShell\n",
        "InteractiveShell.ast_node_interactivity = 'all'\n",
        "pd.set_option('display.max_columns', None)"
      ]
    },
    {
      "cell_type": "markdown",
      "id": "a84e68d7",
      "metadata": {
        "id": "a84e68d7"
      },
      "source": [
        "# Import Data & Preliminary Data Exploration\n",
        "1. How many data records?\n",
        "2. How many variables / features or columns in each data record?\n",
        "3. Peek at the first five records and the last five records"
      ]
    },
    {
      "cell_type": "code",
      "execution_count": 3,
      "id": "003abe04",
      "metadata": {
        "id": "003abe04"
      },
      "outputs": [],
      "source": [
        "# Import Data\n",
        "mpfm_file = '/content/drive/MyDrive/ALCE/MPFM.XLSX'\n",
        "mpfm = pd.read_excel(mpfm_file)"
      ]
    },
    {
      "cell_type": "code",
      "execution_count": null,
      "id": "b19d75b1",
      "metadata": {
        "colab": {
          "base_uri": "https://localhost:8080/",
          "height": 1000
        },
        "id": "b19d75b1",
        "outputId": "67116c9f-0ee4-4825-9e92-319f14c28173"
      },
      "outputs": [],
      "source": [
        "mpfm.info()\n",
        "mpfm.head()\n",
        "mpfm.tail()"
      ]
    },
    {
      "cell_type": "markdown",
      "id": "742a6968",
      "metadata": {
        "id": "742a6968"
      },
      "source": [
        "## Examine Data / think / discuss\n",
        "1. Do we need time column?\n",
        "2. Order of columns is not intuitive\n",
        "   1. Outputs or targets __ref_oil_rate, ref_water_rate, ref_gas_rate__ are in the beginning\n",
        "       1. multioutput regression problem\n",
        "       2. Do we need all three? Won't just one do? Which one????\n",
        "   2. Chokes and gas-lift rate impact production.\n",
        "   3. Pressures can be organized together in the order from bottomhole to the surface.\n",
        "   4. Temperature columns may be at the end just before targets.\n",
        "3. **Note**: Well and Reservoir are provided as numeric columns.Generally, they are categorical variables (having specific and distinct values rather than continuous real-values that a numeric variable would get). The numbers are ordinal values probably."
      ]
    },
    {
      "cell_type": "code",
      "execution_count": null,
      "id": "e1dcdc4b",
      "metadata": {
        "colab": {
          "base_uri": "https://localhost:8080/",
          "height": 772
        },
        "id": "e1dcdc4b",
        "outputId": "a64c49b3-ede5-4b23-bdde-5b88ebd798e1",
        "scrolled": false
      },
      "outputs": [],
      "source": [
        "mpfm.drop(columns=['time'], inplace=True)\n",
        "reorder = ['well', 'reservoir','chokeprod', 'chokegaslift', 'dhp', 'whp', 'chokepressdownstream', 'flowlinepressure', 'gasliftpressure', 'dht', 'wht', 'gasliftrate', 'ref_oil_rate', 'ref_water_rate', 'ref_gas_rate']\n",
        "mpfm = mpfm[reorder]\n",
        "\n",
        "mpfm['ref_liq_rate'] = mpfm.ref_oil_rate + mpfm.ref_water_rate\n",
        "\n",
        "# # Convert Well and Reservoir to categorical variables\n",
        "categoricals = ['well', 'reservoir']\n",
        "mpfm[categoricals] = mpfm[categoricals].astype('category')\n",
        "mpfm_num = mpfm.drop(columns=categoricals);\n",
        "\n",
        "mpfm_num.head()\n",
        "mpfm_num.describe()"
      ]
    },
    {
      "cell_type": "markdown",
      "id": "70ac9c7b",
      "metadata": {
        "id": "70ac9c7b"
      },
      "source": [
        "## Statistics on each column / feature / variable\n",
        "1. What are NaNs in the first five records for <b>chokegaslift</b>? There could be more in other records for this variable... and for other(s).\n",
        "2. Review how many measurements for each variable in the <b>count</b> row. Why chokegaslift has less measurements? NaNs? How many?\n",
        "3. Review Mean, min, std dev and percentile values for each variable.\n",
        "    1. Could min-values be negative for <b>chokeprod, dhp</b>?\n",
        "    2. How about min-values being zero for certain variables?\n",
        "    3. What are the median values?\n",
        "4. What does it mean when 25% percentile-value is 0.0 for <b>dhp, gasliftpressure, dht</b> variables?"
      ]
    },
    {
      "cell_type": "code",
      "execution_count": null,
      "id": "8ca47c00",
      "metadata": {
        "colab": {
          "base_uri": "https://localhost:8080/",
          "height": 673
        },
        "id": "8ca47c00",
        "outputId": "d225c382-026c-4d66-c1a9-0958e56c936b"
      },
      "outputs": [],
      "source": [
        "# plot statistics\n",
        "plt.figure(figsize=(15,6));\n",
        "plt.yscale(\"log\");\n",
        "plt.grid('y');\n",
        "plt.xticks(rotation='vertical')\n",
        "sns.boxplot(data=mpfm_num);"
      ]
    },
    {
      "cell_type": "markdown",
      "id": "e178a7d1",
      "metadata": {
        "id": "e178a7d1"
      },
      "source": [
        "#### Boxplot Visualization\n",
        "In the visualization above, why some boxes are very tall (long color bars).\n",
        "1. Which variable has the smallest distribution?\n",
        "2. Which variable is widely distributed?\n",
        "3. What does it mean when one whisker is longer than the other?"
      ]
    },
    {
      "cell_type": "code",
      "execution_count": null,
      "id": "593d23ac",
      "metadata": {
        "colab": {
          "base_uri": "https://localhost:8080/",
          "height": 1000
        },
        "id": "593d23ac",
        "outputId": "38cfd99a-2b2f-4d4b-9e8e-752cf7c0cc12"
      },
      "outputs": [],
      "source": [
        "plt.figure(figsize=(15,6));\n",
        "plt.grid('y');\n",
        "sns.boxplot(data=mpfm, x=\"well\", y=\"ref_liq_rate\");\n",
        "plt.figure(figsize=(15,6));\n",
        "plt.grid('y');\n",
        "sns.boxplot(data=mpfm, x=\"reservoir\", y=\"ref_liq_rate\");"
      ]
    },
    {
      "cell_type": "markdown",
      "id": "c39d91b3",
      "metadata": {
        "id": "c39d91b3"
      },
      "source": [
        "### Histograms\n",
        "Help visualize how measurements are distributed.\n",
        "Wouldn't we like them to be normally distributed?!?"
      ]
    },
    {
      "cell_type": "code",
      "execution_count": null,
      "id": "36c687d3",
      "metadata": {
        "colab": {
          "base_uri": "https://localhost:8080/",
          "height": 1000
        },
        "id": "36c687d3",
        "outputId": "6b938355-7f74-4c63-974b-a379196a7501"
      },
      "outputs": [],
      "source": [
        "mpfm.hist(figsize=(20, 20));"
      ]
    },
    {
      "cell_type": "code",
      "execution_count": null,
      "id": "39a8c58a",
      "metadata": {
        "colab": {
          "base_uri": "https://localhost:8080/",
          "height": 1000
        },
        "id": "39a8c58a",
        "outputId": "fb747678-4088-427e-fec7-4b7dfb8f8be3"
      },
      "outputs": [],
      "source": [
        "# May skip running in class as it takes about 90s.\n",
        "plot_vars=['chokeprod', 'dhp', 'whp', 'chokepressdownstream',\n",
        "           #'flowlinepressure',\n",
        "           #'ref_oil_rate', 'ref_water_rate','ref_gas_rate',\n",
        "           'ref_liq_rate'\n",
        "           ]\n",
        "\n",
        "# Define a function to plot histogram and scatterplot for the specified variables/columns of provided dataframe\n",
        "def plotPairgrid(df, plot_vars=['chokeprod', 'dhp', 'whp', 'chokepressdownstream', 'flowlinepressure',\n",
        "                                'ref_oil_rate', 'ref_water_rate','ref_gas_rate']):\n",
        "    g = sns.PairGrid(data=df, vars=plot_vars, hue='reservoir', diag_sharey=False);\n",
        "#    g.map_upper(sns.scatterplot, s=15);\n",
        "#    g.map_lower(sns.kdeplot);\n",
        "    #g.map_diag(sns.kdeplot, lw=2);\n",
        "    g.map_diag(sns.histplot);\n",
        "    g.map_offdiag(sns.scatterplot);\n",
        "\n",
        "\n",
        "plotPairgrid(mpfm, plot_vars);"
      ]
    },
    {
      "cell_type": "markdown",
      "id": "e5133b7e",
      "metadata": {
        "id": "e5133b7e"
      },
      "source": [
        "### Correlations between Variables\n",
        "Let's find out if two variables are correlated by calculating correlation coefficients between two variables.\n",
        "1. Positive value (positive correlation) means one increases with another in the dataset; and\n",
        "2. Negative value (negative correlation) means one decreases while another increases and vice versa.\n",
        "3. Magnitude of the correlation coefficient indicates strength of the correlation.\n",
        "\n",
        "#### Why do we want to perform this exercise?\n",
        "\n",
        "There are multiple ways to perform this task. We will calculate Pearson and Spearman coefficeints.\n",
        "#### Pearson Correlation Coefficient\n",
        "Pearson correlation assumes that the data we are comparing is normally distributed. When that assumption is not true, the correlation value is reflecting the true association.\n",
        "\n",
        "#### Spearman Rank Correlation\n",
        "Spearman correlation does not assume that data is from a specific distribution, so it is a non-parametric correlation measure. Spearman correlation is also known as Spearman’s rank correlation as it computes correlation coefficient on rank values of the data."
      ]
    },
    {
      "cell_type": "code",
      "execution_count": null,
      "id": "82f4a271",
      "metadata": {
        "colab": {
          "base_uri": "https://localhost:8080/",
          "height": 1000
        },
        "id": "82f4a271",
        "outputId": "9e34544a-a692-4ac1-b28e-21ec99657cf6"
      },
      "outputs": [],
      "source": [
        "def plot_corrcoeff(method):\n",
        "    fig, ax = plt.subplots(figsize=(7, 7))\n",
        "\n",
        "    dfCorr = mpfm[plot_vars].corr(method=method)\n",
        "    g1 = sns.heatmap(dfCorr, center=0.0, linewidths=0.3, square=True, annot=True, vmin=-1, vmax=1., fmt='1.2f')\n",
        "    g1.set_xticklabels(g1.get_xticklabels(), rotation=90);\n",
        "    g1.set_title(method.capitalize() + ' Correlation Coefficients - Heatmap')\n",
        "    plt.show()\n",
        "\n",
        "# Pearson Correlation Coefficient\n",
        "plot_corrcoeff(method='pearson')\n",
        "\n",
        "# Spearman Rank Correlation\n",
        "plot_corrcoeff(method='spearman')"
      ]
    },
    {
      "cell_type": "markdown",
      "id": "66372f08",
      "metadata": {
        "id": "66372f08"
      },
      "source": [
        "# Data Exploration\n",
        "### Missing Data at Macro Level\n",
        "1. In the box plots above, <b>chokeprod, chokegaslift, dhp, gasliftpressure, dht, gasliftrate</b> have almost zero or negative values\n",
        "2. There may be some null (NaN) measurements for some of these data columns."
      ]
    },
    {
      "cell_type": "code",
      "execution_count": null,
      "id": "5cad4e6b",
      "metadata": {
        "colab": {
          "base_uri": "https://localhost:8080/"
        },
        "id": "5cad4e6b",
        "outputId": "7e6605bb-c491-4f20-bbf8-b892fb018a9d"
      },
      "outputs": [],
      "source": [
        "# Q1. How many nulls are there?\n",
        "mpfm.isnull().sum()\n",
        "\n",
        "# Q2. How many values are zero or -ve\n",
        "(mpfm[plot_vars] <= 0.0).sum()"
      ]
    },
    {
      "cell_type": "markdown",
      "id": "22622613",
      "metadata": {
        "id": "22622613"
      },
      "source": [
        "## Data Exploration - Slightly Deeper Dive\n",
        "1. <b>Missing Data</b>\n",
        "    1. Which wells have null values for the chokegaslift variable?\n",
        "    2. No gaslift pressure but +ve gaslift rate\n",
        "2. <b>Illogical data</b>\n",
        "    1. whp <= flp and Qliquid > 0.0\n",
        "    2. dhp > 0.0 but <= whp\n",
        "3. <b>Overall number of Impaired records</b>: Having one or more issues with data\n",
        "\n",
        "<b>Any others, you'd like to check?</b>"
      ]
    },
    {
      "cell_type": "code",
      "execution_count": null,
      "id": "283b0641",
      "metadata": {
        "colab": {
          "base_uri": "https://localhost:8080/"
        },
        "id": "283b0641",
        "outputId": "22b10457-dd6b-4a36-d466-fcf4f6db84e5"
      },
      "outputs": [],
      "source": [
        "# Null records for the chokegaslift variable\n",
        "mpfm[mpfm.chokegaslift.isnull()].well.unique()\n",
        "\n",
        "# Qgl > 0.0 but Pgaslift is 0.0 or -ve?\n",
        "((mpfm.gasliftpressure <= 0.0) & (mpfm.gasliftrate >= 0.0)).sum()\n",
        "\n",
        "# Records with whp <= flowlinepressure and liquid flowrate > 0.0  <-- 904\n",
        "((mpfm.whp <= mpfm.flowlinepressure) &  ((mpfm.ref_oil_rate + mpfm.ref_water_rate) > 0.0)).sum()\n",
        "\n",
        "# 904 records with WHP <= FLP / dhp <= 0 <- 17589 / ProdChoke -ve 181\n",
        "# 17781 records\n",
        "((mpfm.dhp <= 0.0) | (mpfm.chokeprod <= 0.0) |\n",
        " ((mpfm.whp <= mpfm.flowlinepressure) & ((mpfm.ref_oil_rate + mpfm.ref_water_rate) > 0.0)) |\n",
        " (mpfm.dht <= 0.0) | (mpfm.wht <= 0.0) | (mpfm.gasliftrate <= 0.0) | (mpfm.gasliftpressure <= 0.0)\n",
        " ).sum()"
      ]
    },
    {
      "cell_type": "markdown",
      "id": "658d040c",
      "metadata": {
        "id": "658d040c"
      },
      "source": [
        "## Data Cleaning\n",
        "1. Convert negatives or zeros to Nan\n",
        "2. Production choke has some weird values around 0 (< 1.0). Set them to NaN\n",
        "3. Recheck histograms"
      ]
    },
    {
      "cell_type": "code",
      "execution_count": null,
      "id": "3f1f59e8",
      "metadata": {
        "colab": {
          "base_uri": "https://localhost:8080/",
          "height": 452
        },
        "id": "3f1f59e8",
        "outputId": "4f1ff1ee-6c0f-4741-959b-2f731f0bb807"
      },
      "outputs": [],
      "source": [
        "mpfm_positives = mpfm_num.where(mpfm_num > 0.0, other=np.nan)\n",
        "\n",
        "mpfm_positives['chokeprod'] = np.where(mpfm_positives['chokeprod'] < 1.0, np.nan, mpfm_positives['chokeprod'])\n",
        "\n",
        "plt.figure(figsize=(12, 4));\n",
        "plt.subplot(121, title='Positive ChokeProd');\n",
        "sns.histplot(x=mpfm.chokeprod, log_scale=(True, True));\n",
        "\n",
        "plt.subplot(122, title='ChokeProd > 1.0');\n",
        "aa = sns.histplot(x=mpfm_positives.chokeprod, log_scale=(True, True));\n",
        "aa.set_xlim(0.6, 150);"
      ]
    },
    {
      "cell_type": "code",
      "execution_count": 15,
      "id": "b05f9ae0",
      "metadata": {
        "id": "b05f9ae0"
      },
      "outputs": [],
      "source": [
        "# Separate targets from inputs\n",
        "targets = ['ref_oil_rate', 'ref_water_rate', 'ref_gas_rate']#, 'ref_liq_rate']\n",
        "\n",
        "y = mpfm_positives[targets].to_numpy()\n",
        "X = mpfm_positives.drop(columns=targets).to_numpy()"
      ]
    },
    {
      "cell_type": "code",
      "execution_count": null,
      "id": "7a8af542",
      "metadata": {
        "colab": {
          "base_uri": "https://localhost:8080/"
        },
        "id": "7a8af542",
        "outputId": "e33e317f-b671-47d7-b5e6-9f0f2a50fa84"
      },
      "outputs": [],
      "source": [
        "# Do we have nulls in targets and inputs?\n",
        "np.isnan(y).any(), np.isnan(X).any()"
      ]
    },
    {
      "cell_type": "markdown",
      "id": "296a6344",
      "metadata": {
        "id": "296a6344"
      },
      "source": [
        "### Impute missing values"
      ]
    },
    {
      "cell_type": "code",
      "execution_count": 18,
      "id": "cd690ea3",
      "metadata": {
        "id": "cd690ea3"
      },
      "outputs": [],
      "source": [
        "from sklearn.experimental import enable_iterative_imputer  # noqa\n",
        "from sklearn.impute import SimpleImputer, KNNImputer, IterativeImputer\n",
        "\n",
        "# Replace missing values by nearest neighbor\n",
        "imputer = KNNImputer(n_neighbors = 5)\n",
        "X = imputer.fit_transform(X)"
      ]
    },
    {
      "cell_type": "code",
      "execution_count": null,
      "id": "d448626d",
      "metadata": {
        "colab": {
          "base_uri": "https://localhost:8080/"
        },
        "id": "d448626d",
        "outputId": "47f1aa38-2e90-46a8-b70d-8c582b170978"
      },
      "outputs": [],
      "source": [
        "# Normalize inputs\n",
        "from sklearn.preprocessing import Normalizer\n",
        "Normalizer().fit_transform(X)"
      ]
    },
    {
      "cell_type": "markdown",
      "id": "1e40ab5b",
      "metadata": {
        "id": "1e40ab5b"
      },
      "source": [
        "### Sub-divide datatest into training and testing: 70 - 30% split"
      ]
    },
    {
      "cell_type": "code",
      "execution_count": 20,
      "id": "930f6070",
      "metadata": {
        "id": "930f6070"
      },
      "outputs": [],
      "source": [
        "from sklearn.model_selection import train_test_split\n",
        "X_train, X_test, y_train, y_test = train_test_split(\n",
        "    X, y,\n",
        "    test_size=0.3, random_state=1002)"
      ]
    },
    {
      "cell_type": "markdown",
      "id": "00ac434f",
      "metadata": {
        "id": "00ac434f"
      },
      "source": [
        "### Method Evaluation using Multiple Metrics"
      ]
    },
    {
      "cell_type": "code",
      "execution_count": 21,
      "id": "92ef21c3",
      "metadata": {
        "id": "92ef21c3"
      },
      "outputs": [],
      "source": [
        "from sklearn.metrics import mean_squared_error, mean_absolute_percentage_error, r2_score\n",
        "\n",
        "def calc_predMetrics(y_true, y_pred, method):\n",
        "    rmse = np.sqrt(mean_squared_error(y_true, y_pred))\n",
        "    mape = mean_absolute_percentage_error(y_true, y_pred)\n",
        "    r2 = r2_score(y_true, y_pred)\n",
        "    return {'method':method, 'rmse':rmse, 'MAPE':mape, 'R2':r2}\n",
        "\n",
        "pred_perf_metric = []"
      ]
    },
    {
      "cell_type": "markdown",
      "id": "fc0c76b2",
      "metadata": {
        "id": "fc0c76b2"
      },
      "source": [
        "### Decision Tree Regressor"
      ]
    },
    {
      "cell_type": "code",
      "execution_count": 22,
      "id": "8959168d",
      "metadata": {
        "id": "8959168d"
      },
      "outputs": [],
      "source": [
        "from sklearn.tree import DecisionTreeRegressor\n",
        "dt = DecisionTreeRegressor(max_depth=100, splitter='best',\n",
        "                           criterion='squared_error', random_state=1002)\n",
        "y_pred_dt = dt.fit(X_train, y_train).predict(X_test)\n",
        "\n",
        "pred_perf_metric.append(calc_predMetrics(y_test, y_pred_dt, method=\"Decision Tree\"))"
      ]
    },
    {
      "cell_type": "markdown",
      "id": "eb2a06e4",
      "metadata": {
        "id": "eb2a06e4"
      },
      "source": [
        "### Support Vector machine Regressor"
      ]
    },
    {
      "cell_type": "code",
      "execution_count": null,
      "id": "36fc6687",
      "metadata": {
        "colab": {
          "base_uri": "https://localhost:8080/",
          "height": 54
        },
        "id": "36fc6687",
        "outputId": "fe4d6722-0695-420f-a68d-07357a9b4127"
      },
      "outputs": [],
      "source": [
        "# Takes very long so commented out for class exercise\n",
        "'''\n",
        "from sklearn.multioutput import MultiOutputRegressor\n",
        "\n",
        "from sklearn.svm import SVR\n",
        "svr = SVR(kernel=\"rbf\")\n",
        "y_pred_svr = MultiOutputRegressor(svr).fit(X_train, y_train).predict(X_test)\n",
        "pred_perf_metric.append(\n",
        "    calc_predMetrics(y_test, y_pred_svr, method=\"Support Vector Regression\"))\n",
        "'''"
      ]
    },
    {
      "cell_type": "markdown",
      "id": "62ec0fa2",
      "metadata": {
        "id": "62ec0fa2"
      },
      "source": [
        "### Random Forest Regressor"
      ]
    },
    {
      "cell_type": "code",
      "execution_count": 24,
      "id": "ba29a2e9",
      "metadata": {
        "id": "ba29a2e9"
      },
      "outputs": [],
      "source": [
        "from sklearn.ensemble import RandomForestRegressor\n",
        "rf = RandomForestRegressor(n_estimators=1000, max_depth=1000,\n",
        "                           criterion='squared_error', random_state=0)\n",
        "y_pred_rf = rf.fit(X_train, y_train).predict(X_test)\n",
        "pred_perf_metric.append(calc_predMetrics(y_test, y_pred_rf, method=\"Random Forest\" ))"
      ]
    },
    {
      "cell_type": "markdown",
      "id": "4835e58a",
      "metadata": {
        "id": "4835e58a"
      },
      "source": [
        "### Extra Trees Regressor"
      ]
    },
    {
      "cell_type": "code",
      "execution_count": null,
      "id": "5909836d",
      "metadata": {
        "id": "5909836d"
      },
      "outputs": [],
      "source": [
        "from sklearn.ensemble import ExtraTreesRegressor\n",
        "et = ExtraTreesRegressor(n_estimators=1000, max_depth=1000,\n",
        "                           criterion='squared_error', random_state=0)\n",
        "y_pred_et = et.fit(X_train, y_train).predict(X_test)\n",
        "pred_perf_metric.append(calc_predMetrics(y_test, y_pred_et, method=\"Extra Trees\"))"
      ]
    },
    {
      "cell_type": "markdown",
      "id": "e543227a",
      "metadata": {
        "id": "e543227a"
      },
      "source": [
        "### XGBoost"
      ]
    },
    {
      "cell_type": "code",
      "execution_count": null,
      "id": "5d505a30",
      "metadata": {
        "id": "5d505a30"
      },
      "outputs": [],
      "source": [
        "import xgboost as xgb\n",
        "xgbm = xgb.XGBRegressor()\n",
        "y_pred_xgb = MultiOutputRegressor(xgbm).fit(X_train, y_train).predict(X_test)\n",
        "pred_perf_metric.append(calc_predMetrics(y_test, y_pred_xgb, method=\"XGBoost\"))"
      ]
    },
    {
      "cell_type": "markdown",
      "id": "236907cc",
      "metadata": {
        "id": "236907cc"
      },
      "source": [
        "### ANN"
      ]
    },
    {
      "cell_type": "code",
      "execution_count": null,
      "id": "4e25375f",
      "metadata": {
        "id": "4e25375f"
      },
      "outputs": [],
      "source": [
        "from keras.models import Sequential\n",
        "from keras.layers import Dense\n",
        "from tensorflow.keras.optimizers import Adam\n",
        "\n",
        "nn = Sequential()\n",
        "nn.add(Dense(200, input_dim=X.shape[1], activation='selu', kernel_initializer='he_uniform'))\n",
        "nn.add(Dense(50, activation='selu', kernel_initializer='he_uniform'))\n",
        "nn.add(Dense(4, activation='selu'))\n",
        "\n",
        "# compile model\n",
        "nn.compile(loss='mean_squared_error', optimizer=RMSprop(learning_rate=0.01))\n",
        "# fit model\n",
        "nn.fit(X_train, y_train, epochs=100, verbose=0)\n",
        "# evaluate the model\n",
        "y_pred_nn = nn.predict(X_test)\n",
        "pred_perf_metric.append(calc_predMetrics(y_test, y_pred_nn, method=\"ANN\"))"
      ]
    },
    {
      "cell_type": "code",
      "execution_count": null,
      "id": "edb71a30",
      "metadata": {
        "id": "edb71a30"
      },
      "outputs": [],
      "source": [
        "X.shape"
      ]
    },
    {
      "cell_type": "code",
      "execution_count": null,
      "id": "486497eb",
      "metadata": {
        "id": "486497eb"
      },
      "outputs": [],
      "source": [
        "# Plot Relative Performances\n",
        "plotDf = pd.DataFrame(pred_perf_metric)\n",
        "fig, axs = plt.subplots(1, 3, figsize=(12, 6), sharey=True)\n",
        "rect1 = axs[0].barh(plotDf.method, plotDf.rmse)\n",
        "axs[0].set_title('RMSE, bbls/day')\n",
        "axs[0].bar_label(rect1, padding=1, fmt='%.1f')\n",
        "axs[0].set_xlim(0., 4000.)\n",
        "\n",
        "rect2 = axs[1].barh(plotDf.method, plotDf.MAPE)\n",
        "axs[1].set_title('MAPE, %')\n",
        "axs[1].bar_label(rect2, padding=1, fmt='%.3f')\n",
        "axs[1].set_xlim(0., 0.6)\n",
        "\n",
        "rect3 = axs[2].barh(plotDf.method, plotDf.R2)\n",
        "axs[2].set_title('R2 Coefficient')\n",
        "axs[2].bar_label(rect3, padding=0, fmt='%.3f')\n",
        "axs[2].set_xlim(0., 1.2)\n",
        "\n",
        "fig.suptitle('ML Methods Comparison')"
      ]
    }
  ],
  "metadata": {
    "colab": {
      "include_colab_link": true,
      "provenance": []
    },
    "kernelspec": {
      "display_name": "Python 3 (ipykernel)",
      "language": "python",
      "name": "python3"
    },
    "language_info": {
      "codemirror_mode": {
        "name": "ipython",
        "version": 3
      },
      "file_extension": ".py",
      "mimetype": "text/x-python",
      "name": "python",
      "nbconvert_exporter": "python",
      "pygments_lexer": "ipython3",
      "version": "3.9.12"
    }
  },
  "nbformat": 4,
  "nbformat_minor": 5
}
